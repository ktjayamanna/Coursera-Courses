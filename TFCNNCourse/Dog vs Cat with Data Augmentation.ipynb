{
 "cells": [
  {
   "cell_type": "code",
   "execution_count": 1,
   "metadata": {
    "colab": {},
    "colab_type": "code",
    "id": "dn-6c02VmqiN"
   },
   "outputs": [],
   "source": [
    "# ATTENTION: Please do not alter any of the provided code in the exercise. Only add your own code where indicated\n",
    "# ATTENTION: Please do not add or remove any cells in the exercise. The grader will check specific cells based on the cell position.\n",
    "# ATTENTION: Please use the provided epoch values when training.\n",
    "\n",
    "# In this exercise you will train a CNN on the FULL Cats-v-dogs dataset\n",
    "# This will require you doing a lot of data preprocessing because\n",
    "# the dataset isn't split into training and validation for you\n",
    "# This code block has all the required inputs\n",
    "import os\n",
    "import zipfile\n",
    "import random\n",
    "import shutil\n",
    "import tensorflow as tf\n",
    "from tensorflow.keras.optimizers import RMSprop\n",
    "from tensorflow.keras.preprocessing.image import ImageDataGenerator\n",
    "from shutil import copyfile\n",
    "from os import getcwd"
   ]
  },
  {
   "cell_type": "code",
   "execution_count": 2,
   "metadata": {
    "colab": {},
    "colab_type": "code",
    "id": "3sd9dQWa23aj"
   },
   "outputs": [],
   "source": [
    "# This code block unzips the full Cats-v-Dogs dataset to /tmp\n",
    "# which will create a tmp/PetImages directory containing subdirectories\n",
    "# called 'Cat' and 'Dog' (that's how the original researchers structured it)\n",
    "path_cats_and_dogs = f\"{getcwd()}/../tmp2/cats-and-dogs.zip\"\n",
    "shutil.rmtree('/tmp')\n",
    "\n",
    "local_zip = path_cats_and_dogs\n",
    "zip_ref = zipfile.ZipFile(local_zip, 'r')\n",
    "zip_ref.extractall('/tmp')\n",
    "zip_ref.close()"
   ]
  },
  {
   "cell_type": "code",
   "execution_count": 3,
   "metadata": {
    "colab": {},
    "colab_type": "code",
    "id": "gi3yD62a6X3S"
   },
   "outputs": [
    {
     "name": "stdout",
     "output_type": "stream",
     "text": [
      "1500\n",
      "1500\n"
     ]
    }
   ],
   "source": [
    "print(len(os.listdir('/tmp/PetImages/Cat/')))\n",
    "print(len(os.listdir('/tmp/PetImages/Dog/')))\n",
    "\n",
    "# Expected Output:\n",
    "# 1500\n",
    "# 1500"
   ]
  },
  {
   "cell_type": "code",
   "execution_count": 4,
   "metadata": {
    "colab": {},
    "colab_type": "code",
    "id": "F-QkLjxpmyK2"
   },
   "outputs": [],
   "source": [
    "# Use os.mkdir to create your directories\n",
    "# You will need a directory for cats-v-dogs, and subdirectories for training\n",
    "# and testing. These in turn will need subdirectories for 'cats' and 'dogs'\n",
    "try:\n",
    "    #YOUR CODE GOES HERE\n",
    "    PathDir = ['/tmp/cats-v-dogs', '/tmp/cats-v-dogs/training','/tmp/cats-v-dogs/training/cats','/tmp/cats-v-dogs/training/dogs', '/tmp/cats-v-dogs/testing','/tmp/cats-v-dogs/testing/cats','/tmp/cats-v-dogs/testing/dogs']\n",
    "    #Create Directory\n",
    "    for FileName in PathDir:\n",
    "        os.mkdir(FileName)\n",
    "    \n",
    "\n",
    "except OSError:\n",
    "    pass"
   ]
  },
  {
   "cell_type": "code",
   "execution_count": 5,
   "metadata": {
    "colab": {},
    "colab_type": "code",
    "id": "zvSODo0f9LaU"
   },
   "outputs": [],
   "source": [
    "# Write a python function called split_data which takes\n",
    "# a SOURCE directory containing the files\n",
    "# a TRAINING directory that a portion of the files will be copied to\n",
    "# a TESTING directory that a portion of the files will be copie to\n",
    "# a SPLIT SIZE to determine the portion\n",
    "# The files should also be randomized, so that the training set is a random\n",
    "# X% of the files, and the test set is the remaining files\n",
    "# SO, for example, if SOURCE is PetImages/Cat, and SPLIT SIZE is .9\n",
    "# Then 90% of the images in PetImages/Cat will be copied to the TRAINING dir\n",
    "# and 10% of the images will be copied to the TESTING dir\n",
    "# Also -- All images should be checked, and if they have a zero file length,\n",
    "# they will not be copied over\n",
    "#\n",
    "# os.listdir(DIRECTORY) gives you a listing of the contents of that directory\n",
    "# os.path.getsize(PATH) gives you the size of the file\n",
    "# copyfile(source, destination) copies a file from source to destination\n",
    "# random.sample(list, len(list)) shuffles a list\n",
    "def split_data(SOURCE, TRAINING, TESTING, SPLIT_SIZE):\n",
    "# YOUR CODE STARTS HERE\n",
    "    AllFiles = [];\n",
    "    for FileName in os.listdir(SOURCE):\n",
    "        FilePath = SOURCE + FileName;\n",
    "        if os.path.getsize(FilePath):\n",
    "            AllFiles.append(FileName)\n",
    "    \n",
    "    #Figure out the Number of Training Examples\n",
    "    BreakPoint = int(len(AllFiles)*SPLIT_SIZE);\n",
    "    \n",
    "    #Shuffle the Images\n",
    "    Shuffled = random.sample(AllFiles,len(AllFiles))\n",
    "    TrainSet = Shuffled[:BreakPoint]\n",
    "    TestSet  = Shuffled[BreakPoint:]\n",
    "    \n",
    "    for FileName in TrainSet:\n",
    "        copyfile(SOURCE+ FileName, TRAINING+FileName)\n",
    "    for FileName in TestSet:\n",
    "        copyfile(SOURCE+FileName, TESTING+FileName)\n",
    "    \n",
    "# YOUR CODE ENDS HERE\n",
    "\n",
    "\n",
    "CAT_SOURCE_DIR = \"/tmp/PetImages/Cat/\"\n",
    "TRAINING_CATS_DIR = \"/tmp/cats-v-dogs/training/cats/\"\n",
    "TESTING_CATS_DIR = \"/tmp/cats-v-dogs/testing/cats/\"\n",
    "DOG_SOURCE_DIR = \"/tmp/PetImages/Dog/\"\n",
    "TRAINING_DOGS_DIR = \"/tmp/cats-v-dogs/training/dogs/\"\n",
    "TESTING_DOGS_DIR = \"/tmp/cats-v-dogs/testing/dogs/\"\n",
    "\n",
    "split_size = .9\n",
    "split_data(CAT_SOURCE_DIR, TRAINING_CATS_DIR, TESTING_CATS_DIR, split_size)\n",
    "split_data(DOG_SOURCE_DIR, TRAINING_DOGS_DIR, TESTING_DOGS_DIR, split_size)"
   ]
  },
  {
   "cell_type": "code",
   "execution_count": 6,
   "metadata": {
    "colab": {},
    "colab_type": "code",
    "id": "luthalB76ufC"
   },
   "outputs": [
    {
     "name": "stdout",
     "output_type": "stream",
     "text": [
      "1350\n",
      "1350\n",
      "150\n",
      "150\n"
     ]
    }
   ],
   "source": [
    "print(len(os.listdir('/tmp/cats-v-dogs/training/cats/')))\n",
    "print(len(os.listdir('/tmp/cats-v-dogs/training/dogs/')))\n",
    "print(len(os.listdir('/tmp/cats-v-dogs/testing/cats/')))\n",
    "print(len(os.listdir('/tmp/cats-v-dogs/testing/dogs/')))\n",
    "\n",
    "# Expected output:\n",
    "# 1350\n",
    "# 1350\n",
    "# 150\n",
    "# 150"
   ]
  },
  {
   "cell_type": "code",
   "execution_count": 7,
   "metadata": {
    "colab": {},
    "colab_type": "code",
    "id": "-BQrav4anTmj"
   },
   "outputs": [],
   "source": [
    "# DEFINE A KERAS MODEL TO CLASSIFY CATS V DOGS\n",
    "# USE AT LEAST 3 CONVOLUTION LAYERS\n",
    "model = tf.keras.models.Sequential([\n",
    "# YOUR CODE HERE\n",
    "tf.keras.layers.Conv2D(32,(3,3),activation = 'relu',input_shape = (150,150,3)),\n",
    "tf.keras.layers.MaxPooling2D(2,2),\n",
    "tf.keras.layers.Conv2D(24,(3,3),activation = 'relu'),\n",
    "tf.keras.layers.MaxPooling2D(2,2),\n",
    "tf.keras.layers.Conv2D(16,(3,3),activation = 'relu'),\n",
    "tf.keras.layers.MaxPooling2D(2,2),\n",
    "    \n",
    "tf.keras.layers.Flatten(),\n",
    "tf.keras.layers.Dense(512,activation = 'relu'),\n",
    "tf.keras.layers.Dense(1,activation = 'sigmoid')\n",
    "])\n",
    "\n",
    "model.compile(optimizer=RMSprop(lr=0.001), loss='binary_crossentropy', metrics=['acc'])"
   ]
  },
  {
   "cell_type": "markdown",
   "metadata": {},
   "source": [
    "# NOTE:\n",
    "\n",
    "In the cell below you **MUST** use a batch size of 10 (`batch_size=10`) for the `train_generator` and the `validation_generator`. Using a batch size greater than 10 will exceed memory limits on the Coursera platform."
   ]
  },
  {
   "cell_type": "code",
   "execution_count": 8,
   "metadata": {
    "colab": {},
    "colab_type": "code",
    "id": "mlNjoJ5D61N6"
   },
   "outputs": [
    {
     "name": "stdout",
     "output_type": "stream",
     "text": [
      "Found 2700 images belonging to 2 classes.\n",
      "Found 300 images belonging to 2 classes.\n"
     ]
    }
   ],
   "source": [
    "TRAINING_DIR = '/tmp/cats-v-dogs/training' #YOUR CODE HERE\n",
    "\n",
    "train_datagen = ImageDataGenerator(        #YOUR CODE HERE\n",
    "rescale=1./255,\n",
    "rotation_range=40,\n",
    "width_shift_range=0.2,\n",
    "height_shift_range=0.2,\n",
    "shear_range=0.2,\n",
    "zoom_range=0.2,\n",
    "horizontal_flip=True,\n",
    "fill_mode='nearest'                                 )\n",
    "\n",
    "# NOTE: YOU MUST USE A BATCH SIZE OF 10 (batch_size=10) FOR THE \n",
    "# TRAIN GENERATOR.\n",
    "train_generator = train_datagen.flow_from_directory(TRAINING_DIR,\n",
    "                                                   batch_size = 10,\n",
    "                                                   class_mode = 'binary',\n",
    "                                                   target_size= (150,150))#YOUR CODE HERE\n",
    "\n",
    "VALIDATION_DIR = '/tmp/cats-v-dogs/testing' #YOUR CODE HERE\n",
    "validation_datagen = ImageDataGenerator(rescale = 1/255)#YOUR CODE HERE\n",
    "\n",
    "# NOTE: YOU MUST USE A BACTH SIZE OF 10 (batch_size=10) FOR THE \n",
    "# VALIDATION GENERATOR.\n",
    "validation_generator = validation_datagen.flow_from_directory(VALIDATION_DIR,\n",
    "                                                               batch_size = 10,\n",
    "                                                               class_mode = 'binary',\n",
    "                                                               target_size= (150,150))#YOUR CODE HERE\n",
    "\n",
    "\n",
    "\n",
    "# Expected Output:\n",
    "# Found 2700 images belonging to 2 classes.\n",
    "# Found 300 images belonging to 2 classes."
   ]
  },
  {
   "cell_type": "code",
   "execution_count": null,
   "metadata": {
    "colab": {},
    "colab_type": "code",
    "id": "KyS4n53w7DxC"
   },
   "outputs": [
    {
     "name": "stdout",
     "output_type": "stream",
     "text": [
      "Epoch 1/100\n",
      "270/270 [==============================] - 63s 232ms/step - loss: 0.6024 - acc: 0.6852 - val_loss: 0.6352 - val_acc: 0.7000\n",
      "Epoch 2/100\n",
      "270/270 [==============================] - 60s 224ms/step - loss: 0.6004 - acc: 0.6811 - val_loss: 0.5804 - val_acc: 0.6900\n",
      "Epoch 3/100\n",
      "270/270 [==============================] - 62s 229ms/step - loss: 0.6052 - acc: 0.6893 - val_loss: 0.5760 - val_acc: 0.6733\n",
      "Epoch 4/100\n",
      "270/270 [==============================] - 62s 230ms/step - loss: 0.5955 - acc: 0.6959 - val_loss: 0.5435 - val_acc: 0.7133\n",
      "Epoch 5/100\n",
      "270/270 [==============================] - 61s 225ms/step - loss: 0.5851 - acc: 0.7007 - val_loss: 0.5585 - val_acc: 0.7067\n",
      "Epoch 6/100\n",
      "270/270 [==============================] - 62s 229ms/step - loss: 0.5718 - acc: 0.7126 - val_loss: 0.5810 - val_acc: 0.7233\n",
      "Epoch 7/100\n",
      "270/270 [==============================] - 62s 230ms/step - loss: 0.5793 - acc: 0.7096 - val_loss: 0.5097 - val_acc: 0.7400\n",
      "Epoch 8/100\n",
      "270/270 [==============================] - 61s 227ms/step - loss: 0.5786 - acc: 0.7007 - val_loss: 0.5612 - val_acc: 0.7100\n",
      "Epoch 9/100\n",
      "270/270 [==============================] - 63s 233ms/step - loss: 0.5662 - acc: 0.7022 - val_loss: 0.5455 - val_acc: 0.7167\n",
      "Epoch 10/100\n",
      "270/270 [==============================] - 63s 232ms/step - loss: 0.5786 - acc: 0.7122 - val_loss: 0.5310 - val_acc: 0.7233\n",
      "Epoch 11/100\n",
      "270/270 [==============================] - 62s 230ms/step - loss: 0.5588 - acc: 0.7196 - val_loss: 0.5369 - val_acc: 0.7300\n",
      "Epoch 12/100\n",
      "270/270 [==============================] - 61s 227ms/step - loss: 0.5604 - acc: 0.7193 - val_loss: 0.5683 - val_acc: 0.7567\n",
      "Epoch 13/100\n",
      "270/270 [==============================] - 62s 231ms/step - loss: 0.5718 - acc: 0.7181 - val_loss: 0.4526 - val_acc: 0.7900\n",
      "Epoch 14/100\n",
      "270/270 [==============================] - 61s 228ms/step - loss: 0.5603 - acc: 0.7093 - val_loss: 0.4668 - val_acc: 0.7767\n",
      "Epoch 15/100\n",
      "270/270 [==============================] - 61s 225ms/step - loss: 0.5645 - acc: 0.7193 - val_loss: 0.5218 - val_acc: 0.7167\n",
      "Epoch 16/100\n",
      "270/270 [==============================] - 61s 226ms/step - loss: 0.5490 - acc: 0.7270 - val_loss: 0.7957 - val_acc: 0.7100\n",
      "Epoch 17/100\n",
      "270/270 [==============================] - 62s 229ms/step - loss: 0.5747 - acc: 0.7248 - val_loss: 0.5343 - val_acc: 0.7067\n",
      "Epoch 18/100\n",
      "270/270 [==============================] - 62s 228ms/step - loss: 0.5527 - acc: 0.7252 - val_loss: 0.5537 - val_acc: 0.7367\n",
      "Epoch 19/100\n",
      "270/270 [==============================] - 61s 226ms/step - loss: 0.5551 - acc: 0.7374 - val_loss: 0.5427 - val_acc: 0.7367\n",
      "Epoch 20/100\n",
      "270/270 [==============================] - 61s 224ms/step - loss: 0.5596 - acc: 0.7256 - val_loss: 0.4709 - val_acc: 0.7833\n",
      "Epoch 21/100\n",
      "270/270 [==============================] - 60s 221ms/step - loss: 0.5547 - acc: 0.7278 - val_loss: 0.4872 - val_acc: 0.7600\n",
      "Epoch 22/100\n",
      "270/270 [==============================] - 59s 218ms/step - loss: 0.5410 - acc: 0.7459 - val_loss: 0.7217 - val_acc: 0.6933\n",
      "Epoch 23/100\n",
      "270/270 [==============================] - 62s 229ms/step - loss: 0.5481 - acc: 0.7415 - val_loss: 0.4762 - val_acc: 0.7700\n",
      "Epoch 24/100\n",
      "270/270 [==============================] - 60s 223ms/step - loss: 0.5437 - acc: 0.7293 - val_loss: 0.4530 - val_acc: 0.7967\n",
      "Epoch 25/100\n",
      "270/270 [==============================] - 61s 225ms/step - loss: 0.5519 - acc: 0.7404 - val_loss: 0.5201 - val_acc: 0.7700\n",
      "Epoch 26/100\n",
      "270/270 [==============================] - 60s 223ms/step - loss: 0.5576 - acc: 0.7285 - val_loss: 0.5096 - val_acc: 0.7267\n",
      "Epoch 27/100\n",
      "270/270 [==============================] - 60s 223ms/step - loss: 0.5470 - acc: 0.7315 - val_loss: 0.4464 - val_acc: 0.7700\n",
      "Epoch 28/100\n",
      "270/270 [==============================] - 60s 223ms/step - loss: 0.5528 - acc: 0.7374 - val_loss: 0.6286 - val_acc: 0.7400\n",
      "Epoch 29/100\n",
      "270/270 [==============================] - 59s 217ms/step - loss: 0.5439 - acc: 0.7374 - val_loss: 0.4951 - val_acc: 0.7433\n",
      "Epoch 30/100\n",
      "270/270 [==============================] - 59s 219ms/step - loss: 0.5541 - acc: 0.7259 - val_loss: 0.5205 - val_acc: 0.7800\n",
      "Epoch 31/100\n",
      "270/270 [==============================] - 60s 221ms/step - loss: 0.5316 - acc: 0.7400 - val_loss: 0.7178 - val_acc: 0.7100\n",
      "Epoch 32/100\n",
      "270/270 [==============================] - 59s 220ms/step - loss: 0.5691 - acc: 0.7252 - val_loss: 0.5955 - val_acc: 0.7633\n",
      "Epoch 33/100\n",
      "270/270 [==============================] - 60s 222ms/step - loss: 0.5469 - acc: 0.7311 - val_loss: 0.4683 - val_acc: 0.8067\n",
      "Epoch 34/100\n",
      "270/270 [==============================] - 61s 227ms/step - loss: 0.5497 - acc: 0.7367 - val_loss: 0.4517 - val_acc: 0.7800\n",
      "Epoch 35/100\n",
      "270/270 [==============================] - 60s 224ms/step - loss: 0.5477 - acc: 0.7500 - val_loss: 0.5702 - val_acc: 0.7167\n",
      "Epoch 36/100\n",
      "270/270 [==============================] - 62s 228ms/step - loss: 0.5405 - acc: 0.7474 - val_loss: 0.4779 - val_acc: 0.7900\n",
      "Epoch 37/100\n",
      "270/270 [==============================] - 60s 222ms/step - loss: 0.5642 - acc: 0.7352 - val_loss: 0.5622 - val_acc: 0.7467\n",
      "Epoch 38/100\n",
      "270/270 [==============================] - 61s 225ms/step - loss: 0.5633 - acc: 0.7256 - val_loss: 0.4558 - val_acc: 0.8133\n",
      "Epoch 39/100\n",
      "270/270 [==============================] - 61s 227ms/step - loss: 0.5500 - acc: 0.7300 - val_loss: 0.4777 - val_acc: 0.8067\n",
      "Epoch 40/100\n",
      "270/270 [==============================] - 61s 225ms/step - loss: 0.5428 - acc: 0.7467 - val_loss: 0.5762 - val_acc: 0.7533\n",
      "Epoch 41/100\n",
      "270/270 [==============================] - 62s 229ms/step - loss: 0.5353 - acc: 0.7437 - val_loss: 0.4910 - val_acc: 0.7667\n",
      "Epoch 42/100\n",
      "270/270 [==============================] - 62s 228ms/step - loss: 0.5560 - acc: 0.7278 - val_loss: 0.4632 - val_acc: 0.8100\n",
      "Epoch 43/100\n",
      "270/270 [==============================] - 60s 224ms/step - loss: 0.5395 - acc: 0.7315 - val_loss: 0.4622 - val_acc: 0.7767\n",
      "Epoch 44/100\n",
      "270/270 [==============================] - 61s 225ms/step - loss: 0.5521 - acc: 0.7404 - val_loss: 0.6162 - val_acc: 0.7433\n",
      "Epoch 45/100\n",
      "270/270 [==============================] - 61s 227ms/step - loss: 0.5727 - acc: 0.7278 - val_loss: 0.5999 - val_acc: 0.7300\n",
      "Epoch 46/100\n",
      "270/270 [==============================] - 61s 226ms/step - loss: 0.5678 - acc: 0.7393 - val_loss: 0.4902 - val_acc: 0.7967\n",
      "Epoch 47/100\n",
      "270/270 [==============================] - 61s 226ms/step - loss: 0.5557 - acc: 0.7307 - val_loss: 0.4345 - val_acc: 0.8200\n",
      "Epoch 48/100\n",
      "270/270 [==============================] - 60s 222ms/step - loss: 0.5504 - acc: 0.7196 - val_loss: 0.4846 - val_acc: 0.7800\n",
      "Epoch 49/100\n",
      "270/270 [==============================] - 61s 227ms/step - loss: 0.5590 - acc: 0.7281 - val_loss: 0.4699 - val_acc: 0.7900\n",
      "Epoch 50/100\n",
      "270/270 [==============================] - 62s 229ms/step - loss: 0.5482 - acc: 0.7485 - val_loss: 0.5018 - val_acc: 0.7467\n",
      "Epoch 51/100\n",
      "270/270 [==============================] - 62s 228ms/step - loss: 0.6045 - acc: 0.7393 - val_loss: 4.1023 - val_acc: 0.5833\n",
      "Epoch 52/100\n",
      "270/270 [==============================] - 62s 231ms/step - loss: 0.5814 - acc: 0.7207 - val_loss: 0.7186 - val_acc: 0.7167\n",
      "Epoch 53/100\n",
      "270/270 [==============================] - 62s 231ms/step - loss: 0.5477 - acc: 0.7411 - val_loss: 0.6827 - val_acc: 0.7333\n",
      "Epoch 54/100\n",
      "270/270 [==============================] - 62s 228ms/step - loss: 0.5506 - acc: 0.7359 - val_loss: 0.4615 - val_acc: 0.8000\n",
      "Epoch 55/100\n",
      "270/270 [==============================] - 61s 226ms/step - loss: 0.5558 - acc: 0.7285 - val_loss: 0.5437 - val_acc: 0.7700\n",
      "Epoch 56/100\n",
      "270/270 [==============================] - 60s 221ms/step - loss: 0.5448 - acc: 0.7393 - val_loss: 0.6808 - val_acc: 0.7900\n",
      "Epoch 57/100\n",
      "270/270 [==============================] - 59s 220ms/step - loss: 0.5719 - acc: 0.7348 - val_loss: 0.5159 - val_acc: 0.7533\n",
      "Epoch 58/100\n",
      "270/270 [==============================] - 59s 218ms/step - loss: 0.5501 - acc: 0.7285 - val_loss: 0.4738 - val_acc: 0.7867\n",
      "Epoch 59/100\n",
      "270/270 [==============================] - 59s 218ms/step - loss: 0.5596 - acc: 0.7500 - val_loss: 0.5673 - val_acc: 0.7433\n",
      "Epoch 60/100\n",
      "270/270 [==============================] - 58s 215ms/step - loss: 0.5432 - acc: 0.7411 - val_loss: 0.6614 - val_acc: 0.8133\n",
      "Epoch 61/100\n",
      "270/270 [==============================] - 59s 219ms/step - loss: 0.5451 - acc: 0.7419 - val_loss: 0.5643 - val_acc: 0.7867\n",
      "Epoch 62/100\n",
      "270/270 [==============================] - 59s 220ms/step - loss: 0.5434 - acc: 0.7374 - val_loss: 0.6517 - val_acc: 0.7667\n",
      "Epoch 63/100\n",
      "270/270 [==============================] - 58s 216ms/step - loss: 0.5569 - acc: 0.7348 - val_loss: 0.5093 - val_acc: 0.7667\n",
      "Epoch 64/100\n",
      "270/270 [==============================] - 59s 217ms/step - loss: 0.5530 - acc: 0.7441 - val_loss: 0.5038 - val_acc: 0.7767\n",
      "Epoch 65/100\n",
      "270/270 [==============================] - 59s 217ms/step - loss: 0.5311 - acc: 0.7441 - val_loss: 0.5969 - val_acc: 0.7767\n",
      "Epoch 66/100\n",
      "270/270 [==============================] - 60s 223ms/step - loss: 0.5432 - acc: 0.7500 - val_loss: 0.5689 - val_acc: 0.7300\n",
      "Epoch 67/100\n",
      "270/270 [==============================] - 59s 219ms/step - loss: 0.5396 - acc: 0.7470 - val_loss: 0.4393 - val_acc: 0.8133\n",
      "Epoch 68/100\n",
      "270/270 [==============================] - 60s 223ms/step - loss: 0.5441 - acc: 0.7419 - val_loss: 0.6282 - val_acc: 0.7467\n",
      "Epoch 69/100\n",
      "269/270 [============================>.] - ETA: 0s - loss: 0.5478 - acc: 0.7390"
     ]
    }
   ],
   "source": [
    "history = model.fit_generator(train_generator,\n",
    "                              epochs=100,\n",
    "                              verbose=1,\n",
    "                              validation_data=validation_generator)\n"
   ]
  },
  {
   "cell_type": "code",
   "execution_count": 12,
   "metadata": {
    "colab": {},
    "colab_type": "code",
    "id": "MWZrJN4-65RC"
   },
   "outputs": [
    {
     "data": {
      "text/plain": [
       "Text(0.5, 1.0, 'Training and validation loss')"
      ]
     },
     "execution_count": 12,
     "metadata": {},
     "output_type": "execute_result"
    },
    {
     "data": {
      "image/png": "[encoded data removed]",
      "text/plain": [
       "<Figure size 432x288 with 1 Axes>"
      ]
     },
     "metadata": {
      "needs_background": "light"
     },
     "output_type": "display_data"
    },
    {
     "data": {
      "image/png": "[encoded data removed]",
      "text/plain": [
       "<Figure size 432x288 with 1 Axes>"
      ]
     },
     "metadata": {
      "needs_background": "light"
     },
     "output_type": "display_data"
    }
   ],
   "source": [
    "# PLOT LOSS AND ACCURACY\n",
    "%matplotlib inline\n",
    "\n",
    "import matplotlib.image  as mpimg\n",
    "import matplotlib.pyplot as plt\n",
    "\n",
    "#-----------------------------------------------------------\n",
    "# Retrieve a list of list results on training and test data\n",
    "# sets for each training epoch\n",
    "#-----------------------------------------------------------\n",
    "acc=history.history['acc']\n",
    "val_acc=history.history['val_acc']\n",
    "loss=history.history['loss']\n",
    "val_loss=history.history['val_loss']\n",
    "\n",
    "epochs=range(len(acc)) # Get number of epochs\n",
    "\n",
    "#------------------------------------------------\n",
    "# Plot training and validation accuracy per epoch\n",
    "#------------------------------------------------\n",
    "plt.plot(epochs, acc, 'r', \"Training Accuracy\")\n",
    "plt.plot(epochs, val_acc, 'b', \"Validation Accuracy\")\n",
    "plt.title('Training and validation accuracy')\n",
    "plt.figure()\n",
    "\n",
    "#------------------------------------------------\n",
    "# Plot training and validation loss per epoch\n",
    "#------------------------------------------------\n",
    "plt.plot(epochs, loss, 'r', \"Training Loss\")\n",
    "plt.plot(epochs, val_loss, 'b', \"Validation Loss\")\n",
    "\n",
    "\n",
    "plt.title('Training and validation loss')\n",
    "\n",
    "# Desired output. Charts with training and validation metrics. No crash :)"
   ]
  },
  {
   "cell_type": "markdown",
   "metadata": {},
   "source": [
    "# Submission Instructions"
   ]
  },
  {
   "cell_type": "code",
   "execution_count": null,
   "metadata": {},
   "outputs": [],
   "source": [
    "# Now click the 'Submit Assignment' button above."
   ]
  },
  {
   "cell_type": "markdown",
   "metadata": {},
   "source": [
    "# When you're done or would like to take a break, please run the two cells below to save your work and close the Notebook. This will free up resources for your fellow learners. "
   ]
  },
  {
   "cell_type": "code",
   "execution_count": null,
   "metadata": {},
   "outputs": [],
   "source": [
    "%%javascript\n",
    "<!-- Save the notebook -->\n",
    "IPython.notebook.save_checkpoint();"
   ]
  },
  {
   "cell_type": "code",
   "execution_count": null,
   "metadata": {},
   "outputs": [],
   "source": [
    "%%javascript\n",
    "IPython.notebook.session.delete();\n",
    "window.onbeforeunload = null\n",
    "setTimeout(function() { window.close(); }, 1000);"
   ]
  }
 ],
 "metadata": {
  "accelerator": "GPU",
  "colab": {
   "collapsed_sections": [],
   "name": "Exercise 6 - Question.ipynb",
   "provenance": []
  },
  "coursera": {
   "course_slug": "convolutional-neural-networks-tensorflow",
   "graded_item_id": "uAPOR",
   "launcher_item_id": "e9lTb"
  },
  "kernelspec": {
   "display_name": "Python 3",
   "language": "python",
   "name": "python3"
  },
  "language_info": {
   "codemirror_mode": {
    "name": "ipython",
    "version": 3
   },
   "file_extension": ".py",
   "mimetype": "text/x-python",
   "name": "python",
   "nbconvert_exporter": "python",
   "pygments_lexer": "ipython3",
   "version": "3.6.8"
  }
 },
 "nbformat": 4,
 "nbformat_minor": 1
}
